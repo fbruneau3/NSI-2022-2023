{
 "cells": [
  {
   "cell_type": "markdown",
   "metadata": {},
   "source": [
    "# <center><font color =\"red\">1er pas en Python</font></center>"
   ]
  },
  {
   "cell_type": "markdown",
   "metadata": {},
   "source": [
    "<font size='4'>_Afin de pouvoir personnaliser votre notebook, vous allez commencer par l'enregistrer: aller dans File...Save as...indiquer le chemin et renommer le notebook en ajoutant votre nom à la fin.  \n",
    "Pour exécuter un cellule, cliquer sur **Exécuter**_ </font>"
   ]
  },
  {
   "cell_type": "markdown",
   "metadata": {},
   "source": [
    "Pour lancer une visite guidée de l'interface Notebook Jupyter   \n",
    "**Help ... User Interface Tour...**   \n"
   ]
  },
  {
   "cell_type": "markdown",
   "metadata": {},
   "source": [
    "***"
   ]
  },
  {
   "cell_type": "markdown",
   "metadata": {},
   "source": [
    "En algorithme et en programmation, nous utilisons 4 familles d'instruction:  (O-THoni)\n",
    "<strong> \n",
    "* l'affectation\n",
    "* les entrées/sorties\n",
    "* les tests\n",
    "* les boucles \n",
    "</strong>\n",
    "\n"
   ]
  },
  {
   "cell_type": "markdown",
   "metadata": {},
   "source": [
    "Dans cette séance, après quelques généralités sur le langage Python, nous allons découvrir:\n",
    "  * La notion de variables  et d'affectation, \n",
    "  * Quelques opérations utiles,\n",
    "  * Les différents types de données, \n",
    "  * Les structures conditionnelles"
   ]
  },
  {
   "cell_type": "markdown",
   "metadata": {},
   "source": [
    "## <font color=#3D6BBC > 1. Généralités</font>"
   ]
  },
  {
   "cell_type": "markdown",
   "metadata": {},
   "source": [
    "###  Indentation"
   ]
  },
  {
   "cell_type": "markdown",
   "metadata": {},
   "source": [
    "Python oblige le développeur à structurer son code à l'aide des __indentations__: ce sont elles qui détermineront les blocs (séquences d'instructions liées)."
   ]
  },
  {
   "cell_type": "markdown",
   "metadata": {},
   "source": [
    "### Commentaires"
   ]
  },
  {
   "cell_type": "markdown",
   "metadata": {},
   "source": [
    "Le caractère # permet d'indiquer que tous les caractères suivants sur la même ligne ne doivent pas être interprétés. Il s'agit de commentaires."
   ]
  },
  {
   "cell_type": "markdown",
   "metadata": {},
   "source": [
    "## <font color=#3D6BBC > 2. Les variables et l'affectation</font>"
   ]
  },
  {
   "cell_type": "markdown",
   "metadata": {},
   "source": [
    "###  Notion de variables"
   ]
  },
  {
   "cell_type": "markdown",
   "metadata": {},
   "source": [
    "Une variable en programmation ou en algorithmique est une case mémoire dans l'ordinateur permettant de stocker une information. Celle-ci peut être un nombre, un texte ou une information bien plus complexe.\n",
    "Pour l'ordinateur, il s'agit d'une adresse mémoire, c'est-à-dire un emplacement précis de la mémoire vive.\n",
    "Une variable est constituée de 2 choses:\n",
    "* une valeur : c'est la donnée qu'elle stocke\n",
    "* un nom : permet de la reconnaître. Pas besoin de retenir l'adresse de la mémoire mais seulement le nom de la variable.\n",
    "\n",
    "L'exemple ci-dessous permet d'__affecter la valeur 4 à la variable de nom a__.  \n",
    "<center><font size='4'>a=4</font></center>"
   ]
  },
  {
   "cell_type": "markdown",
   "metadata": {},
   "source": [
    "![center](variable.png)"
   ]
  },
  {
   "cell_type": "markdown",
   "metadata": {},
   "source": [
    "Python utilise le symbole = pour affecter une valeur à une variable.  \n"
   ]
  },
  {
   "cell_type": "markdown",
   "metadata": {},
   "source": [
    "La console de Spyder ou les cellules de JupyterNotebook peuvent être utilisées comme une calculatrice.  \n",
    "__Tester les cellules suivantes (en cliquant sur Exécuter)__"
   ]
  },
  {
   "cell_type": "code",
   "execution_count": 1,
   "metadata": {},
   "outputs": [],
   "source": [
    "a=4  # a prend la valeur 4 (en langage algorithmique)"
   ]
  },
  {
   "cell_type": "code",
   "execution_count": 3,
   "metadata": {},
   "outputs": [
    {
     "data": {
      "text/plain": [
       "False"
      ]
     },
     "execution_count": 3,
     "metadata": {},
     "output_type": "execute_result"
    }
   ],
   "source": [
    "a==5"
   ]
  },
  {
   "cell_type": "markdown",
   "metadata": {},
   "source": [
    "<u>**Remarque** </u>: a==4 vérifie si la variable a est égale à 4. La réponse est donc un booléen (**_True_** ou **_False_**). True ici car a est bien égale à 4. "
   ]
  },
  {
   "cell_type": "markdown",
   "metadata": {},
   "source": [
    "<u>**Application:**</u> Dans la cellule suivante:\n",
    "    1. Affecter les 7,4 et 6 respectivement aux variables b, x et y.\n",
    "    2. Ecrire le code suivant:\n",
    ">print(a)  \n",
    "print(b)  \n",
    "print(x)  \n",
    "print(y)  \n",
    "b==7\n",
    "    \n"
   ]
  },
  {
   "cell_type": "markdown",
   "metadata": {},
   "source": [
    "    3. Dans des cellules séparées, tester: (cliquer sur + pour créer une cellule et les flèches pour la déplacer)\n",
    "        a. si a est égale à b.\n",
    "        b. si a est égale à x."
   ]
  },
  {
   "cell_type": "code",
   "execution_count": null,
   "metadata": {},
   "outputs": [],
   "source": []
  },
  {
   "cell_type": "code",
   "execution_count": null,
   "metadata": {},
   "outputs": [],
   "source": [
    "\n"
   ]
  },
  {
   "cell_type": "code",
   "execution_count": null,
   "metadata": {},
   "outputs": [],
   "source": []
  },
  {
   "cell_type": "markdown",
   "metadata": {},
   "source": [
    "### Affectations multiples\n",
    "<u> **Exemple 1:**</u> Vous avez la possibilité d'effectuer des affectations de variables multiples avec une même valeur.  \n",
    "Ecrire le code suivant:\n",
    ">a=b=1 "
   ]
  },
  {
   "cell_type": "code",
   "execution_count": null,
   "metadata": {},
   "outputs": [],
   "source": []
  },
  {
   "cell_type": "markdown",
   "metadata": {},
   "source": [
    "Puis vérifier que a et b valent bien 1."
   ]
  },
  {
   "cell_type": "code",
   "execution_count": null,
   "metadata": {},
   "outputs": [],
   "source": []
  },
  {
   "cell_type": "markdown",
   "metadata": {},
   "source": [
    "<u> **Exemple 2:**</u> Vous avez la possibilité d'effectuer des affectations de variables multiples avec des valeurs différentes.  \n",
    "Ecrire le code suivant:\n",
    ">a,b=2,3"
   ]
  },
  {
   "cell_type": "code",
   "execution_count": null,
   "metadata": {},
   "outputs": [],
   "source": []
  },
  {
   "cell_type": "markdown",
   "metadata": {},
   "source": [
    "Puis vérifier les valeurs de a et b."
   ]
  },
  {
   "cell_type": "code",
   "execution_count": null,
   "metadata": {},
   "outputs": [],
   "source": []
  },
  {
   "cell_type": "markdown",
   "metadata": {},
   "source": [
    "### Noms des variables et mots réservés\n",
    "Les noms des varaibles doivent obéir à quelques règles simples:\n",
    "  1. Un nom de variable est une séquence de lettres de l'alphabet français(minuscules ou majuscules) et de chiffres et doit toujours commencer par une lettre.\n",
    "  2. Pas de caractères spéciaux sauf l'underscore (tiret du 8), de cédilles, d'espaces.\n",
    "  3. La casse est significative (Albert, albert ou ALBERT sont des variables différentes). En général, les noms sont en minuscules avec éventuellement une majuscule au milieu pour plus de visisbilité ( tailleTableau ou taille_tableau, abscissePoint...)\n",
    "  4. Il y existe également **33 mots clés ou réservés** car utilisés dans le langage Python:\n",
    "![image](mots-clés.png)"
   ]
  },
  {
   "cell_type": "markdown",
   "metadata": {},
   "source": [
    "**Penser à compléter votre mémo de Python.**"
   ]
  },
  {
   "cell_type": "markdown",
   "metadata": {},
   "source": [
    "### les opérateurs\n",
    "Un ordinateur est capable d'effectuer des opérations mathématiques.  \n",
    "Ecrire le code suivant (une ligne par cellule).\n",
    "> a+b  \n",
    "a * b  \n",
    "a * * b     # il s'agit de l'exponentiation (ou puissance)  \n",
    "a / b  \n",
    "a%b    #  se lit a \"modulo\" b  \n",
    "a//b  \n",
    "a * y  \n",
    "y* *2  \n",
    "a + b * 3  # la règle de priorité est-elle respectée?  \n",
    "(a + b ) * 3  \n"
   ]
  },
  {
   "cell_type": "code",
   "execution_count": null,
   "metadata": {},
   "outputs": [],
   "source": []
  },
  {
   "cell_type": "code",
   "execution_count": null,
   "metadata": {},
   "outputs": [],
   "source": []
  },
  {
   "cell_type": "code",
   "execution_count": null,
   "metadata": {},
   "outputs": [],
   "source": []
  },
  {
   "cell_type": "code",
   "execution_count": null,
   "metadata": {},
   "outputs": [],
   "source": []
  },
  {
   "cell_type": "code",
   "execution_count": null,
   "metadata": {},
   "outputs": [],
   "source": []
  },
  {
   "cell_type": "code",
   "execution_count": null,
   "metadata": {},
   "outputs": [],
   "source": []
  },
  {
   "cell_type": "code",
   "execution_count": null,
   "metadata": {},
   "outputs": [],
   "source": []
  },
  {
   "cell_type": "code",
   "execution_count": null,
   "metadata": {},
   "outputs": [],
   "source": []
  },
  {
   "cell_type": "code",
   "execution_count": null,
   "metadata": {},
   "outputs": [],
   "source": []
  },
  {
   "cell_type": "code",
   "execution_count": null,
   "metadata": {},
   "outputs": [],
   "source": []
  },
  {
   "cell_type": "markdown",
   "metadata": {},
   "source": [
    "<u> __Répondre aux questions suivantes dans la prochaine cellule.__</u>   \n",
    "   1. Quelle est la différence entre a/b et a//b?  \n",
    "   2. Quelle est la différence entre a * b et a * * b?\n",
    "   3. Que signifie a%b?\n",
    "   4. La règle de priorité est-elle respectée?\n"
   ]
  },
  {
   "cell_type": "code",
   "execution_count": null,
   "metadata": {},
   "outputs": [],
   "source": []
  },
  {
   "cell_type": "markdown",
   "metadata": {},
   "source": [
    "<u>**Exercice 1:**</u>\n",
    "1. Lire les instructions suivantes et deviner le contenu de chacune des variables à chaque étape.\n",
    "> a=100  \n",
    "b = 17  \n",
    "c = a-b  \n",
    "a = 2  \n",
    "c = b + a \n",
    "a,b,c\n",
    "2. Vérifier vos résultats en écrivant le code.\n"
   ]
  },
  {
   "cell_type": "code",
   "execution_count": null,
   "metadata": {},
   "outputs": [],
   "source": []
  },
  {
   "cell_type": "markdown",
   "metadata": {},
   "source": [
    "3. Mêmes questions avec le code suivant:\n",
    "> a = 3  \n",
    "b = 4  \n",
    "c = a  \n",
    "a = b  \n",
    "b = c  \n",
    "a,b,c\n"
   ]
  },
  {
   "cell_type": "code",
   "execution_count": null,
   "metadata": {},
   "outputs": [],
   "source": []
  },
  {
   "cell_type": "code",
   "execution_count": null,
   "metadata": {},
   "outputs": [],
   "source": []
  },
  {
   "cell_type": "markdown",
   "metadata": {},
   "source": [
    "## <font color=#3D6BBC > 3. Les instructions et les séquences </font>"
   ]
  },
  {
   "cell_type": "markdown",
   "metadata": {},
   "source": [
    "On appelle **instruction** un ordre de modification de l'état courant de l'exécution d'un programme.  \n",
    "Il y a les instructions simples (la déclaration et l'affectation), puis les instructions composées (les **séquences**, le test et la boucle)"
   ]
  },
  {
   "cell_type": "markdown",
   "metadata": {},
   "source": [
    "**Une séquence** exécute deux instructions. Au-delà de deux instructions, on parle de <strong>_blocs d'instructions_</strong>."
   ]
  },
  {
   "cell_type": "markdown",
   "metadata": {},
   "source": [
    "<u>**Importance de l'ordre des séquences**</u>"
   ]
  },
  {
   "cell_type": "markdown",
   "metadata": {},
   "source": [
    "<u>Exemple:</u>  \n",
    "On part de x =1.  \n",
    "on considère les 2 séquences suivantes:"
   ]
  },
  {
   "cell_type": "markdown",
   "metadata": {},
   "source": [
    "**séquence 1**\n",
    "> x = x + 1  \n",
    " x = x * 2\n"
   ]
  },
  {
   "cell_type": "markdown",
   "metadata": {},
   "source": [
    "**séquence 2**\n",
    "> x = x * 2   \n",
    " x = x + 1"
   ]
  },
  {
   "cell_type": "markdown",
   "metadata": {},
   "source": [
    "Quel est le résultat attendu pour la séquence 1? Même question pour la séquence 2.\n",
    "Conclure."
   ]
  },
  {
   "cell_type": "markdown",
   "metadata": {},
   "source": [
    "## <font color=#3D6BBC > 4. Les différents types de données</font>"
   ]
  },
  {
   "cell_type": "markdown",
   "metadata": {},
   "source": [
    "L'informatique est la science de la résolution de problèmes et du traitement des données."
   ]
  },
  {
   "cell_type": "markdown",
   "metadata": {},
   "source": [
    "Ces données peuvent être diverses:\n",
    "* des nombres,\n",
    "* des textes ou chaînes de caractères,\n",
    "* du son,\n",
    "* des images..."
   ]
  },
  {
   "cell_type": "markdown",
   "metadata": {},
   "source": [
    "### Les nombres"
   ]
  },
  {
   "cell_type": "markdown",
   "metadata": {},
   "source": [
    "#### <font color='red'>Les entiers</font>"
   ]
  },
  {
   "cell_type": "markdown",
   "metadata": {},
   "source": [
    "En Python, il n'existe aucune limitation sur la taille des entiers.\n",
    "Python3 adapte le nombre de bits à l'entier, et peut donc utiliser beaucoup plus que 64 bits si nécessaire.\n",
    "Pour avoir le type d'une donnée a, il suffit de faire type(a).\n",
    "Ecrire le code pour répondre aux questions suivantes:\n",
    "1. Que vaut 12 - 2  +4 ?\n",
    "2. Quel est le type de (12 - 2 + 4)?\n",
    "3. Que vaut -(12 - 2  +4) ?\n",
    "4. Quel est le type de -(12 - 2 + 4)?\n",
    "5. Calculer 2 ** 100 et 2 ** 64 (nombre maximal de valeurs obtenues avec 64 bits)"
   ]
  },
  {
   "cell_type": "code",
   "execution_count": null,
   "metadata": {},
   "outputs": [],
   "source": []
  },
  {
   "cell_type": "code",
   "execution_count": null,
   "metadata": {},
   "outputs": [],
   "source": []
  },
  {
   "cell_type": "code",
   "execution_count": null,
   "metadata": {},
   "outputs": [],
   "source": []
  },
  {
   "cell_type": "code",
   "execution_count": null,
   "metadata": {},
   "outputs": [],
   "source": []
  },
  {
   "cell_type": "markdown",
   "metadata": {},
   "source": [
    "#### <font color='red'>Les flottants</font>"
   ]
  },
  {
   "cell_type": "markdown",
   "metadata": {},
   "source": [
    "Les réels = nombres à virgule flottante (float). Attention, ce sont des valeurs approchées de réels. . ."
   ]
  },
  {
   "cell_type": "markdown",
   "metadata": {},
   "source": [
    "Quel est le type de 0.1 ou 0.2? Vous pouvez-le tester en tapant dans la cellule suivante \"type(0.1)\"   \n"
   ]
  },
  {
   "cell_type": "code",
   "execution_count": null,
   "metadata": {},
   "outputs": [],
   "source": []
  },
  {
   "cell_type": "markdown",
   "metadata": {},
   "source": [
    "* Effectuer le cacul suivant: 0.1 + 0.2 dans la cellule suivante. "
   ]
  },
  {
   "cell_type": "code",
   "execution_count": null,
   "metadata": {},
   "outputs": [],
   "source": []
  },
  {
   "cell_type": "markdown",
   "metadata": {},
   "source": [
    "Que remarquez-vous? (Répondre directement ici)  \n"
   ]
  },
  {
   "cell_type": "markdown",
   "metadata": {},
   "source": [
    "On peut connaître la valeur précise qu'on manipule en écrivant un nombre à virgule avec le module decimal de Python.\n",
    "Tester le code suivant:\n",
    "> import decimal  \n",
    "decimal.Decimal.from_float(1.1)"
   ]
  },
  {
   "cell_type": "code",
   "execution_count": null,
   "metadata": {},
   "outputs": [],
   "source": [
    "\n"
   ]
  },
  {
   "cell_type": "markdown",
   "metadata": {},
   "source": [
    "<div class=\"bg-danger text-danger\">\n",
    "<strong> Attention !   </strong> <br>    \n",
    "Tout calcul effectué sur des nombres entiers est parfaitement exact. <br>   \n",
    "En revanche, les calculs effectués sur des flottants peuvent être entâchés d'erreurs. Vous trouverez quelques exemples ci-dessous.</div>"
   ]
  },
  {
   "cell_type": "markdown",
   "metadata": {},
   "source": [
    "Tester le code suivant dans 2 cellules différentes:\n",
    "> 1/3 + 1/3 +1/3 + 1/3 + 1/3 +1/3\n",
    " 6 * 1/3"
   ]
  },
  {
   "cell_type": "code",
   "execution_count": null,
   "metadata": {},
   "outputs": [],
   "source": [
    "\n"
   ]
  },
  {
   "cell_type": "code",
   "execution_count": null,
   "metadata": {},
   "outputs": [],
   "source": []
  },
  {
   "cell_type": "code",
   "execution_count": null,
   "metadata": {},
   "outputs": [],
   "source": []
  },
  {
   "cell_type": "markdown",
   "metadata": {},
   "source": [
    "Tester le code suivant dans 2 cellules différentes:\n",
    "> 2 ** 53 + 1 == 2 ** 53   \n",
    "2.0 ** 53 + 1.0 == 2.0 ** 53\n"
   ]
  },
  {
   "cell_type": "code",
   "execution_count": null,
   "metadata": {},
   "outputs": [],
   "source": []
  },
  {
   "cell_type": "code",
   "execution_count": null,
   "metadata": {},
   "outputs": [],
   "source": []
  },
  {
   "cell_type": "markdown",
   "metadata": {},
   "source": [
    "Lorsque la partie entière d'un nombre flottant devient trop grande (en valeur absolue), ou lorsqu'elle est nulle et que la première décimale non nulle est située loin après la virgule, ce nombre est écrit sous la forme m×10e\n",
    "avec 1≤|m|<10 et e∈Z. Le nombre m est appelé mantisse et l'entier e exposant.   \n",
    "Tester 125.0 ** 8 et 125.0 ** -8\n"
   ]
  },
  {
   "cell_type": "code",
   "execution_count": null,
   "metadata": {},
   "outputs": [],
   "source": [
    "125.0**8"
   ]
  },
  {
   "cell_type": "code",
   "execution_count": null,
   "metadata": {},
   "outputs": [],
   "source": [
    "125.0**-8"
   ]
  },
  {
   "cell_type": "markdown",
   "metadata": {},
   "source": [
    "On peut d'ailleurs toujours écrire les nombres flottants sous cette forme : 6.023e23"
   ]
  },
  {
   "cell_type": "code",
   "execution_count": null,
   "metadata": {},
   "outputs": [],
   "source": [
    "6.023e23"
   ]
  },
  {
   "cell_type": "markdown",
   "metadata": {},
   "source": [
    "#### A propos de la division\n",
    "Si les entiers n'ont aucune limitation en Python, il n'en est pas de même pour les flottants. Les nombres flottants utilisés par Python suivent la norme IEEE 754 en double précision (codage sur 64 bits). "
   ]
  },
  {
   "cell_type": "markdown",
   "metadata": {},
   "source": [
    "Quel est le type du résultat de la division suivante: 18/7?\n",
    "Et de celle-ci: 18/6?"
   ]
  },
  {
   "cell_type": "code",
   "execution_count": null,
   "metadata": {},
   "outputs": [],
   "source": []
  },
  {
   "cell_type": "markdown",
   "metadata": {},
   "source": [
    "<div class=\"bg-danger text-danger\">Il y a un petit nombre “connu” de catastrophes dans la vie réelle qui sont attribuables à une mauvaise gestion de l’arithmétique des ordinateurs (erreurs d’arondis, d’annulation).\n",
    "Dans le premier exemple ci-dessous cela c’est payé en vies humaines.  <br>\n",
    "<strong>Missile Patriot:</strong> <br>\n",
    "En février 1991, pendant la Guerre du Golfe, une batterie américaine de missiles Patriot, à Dharan (Arabie Saoudite), a échoué dans l’interception d’un missile Scud irakien. Le Scud a frappé un baraquement de l’armée américaine et a tué 28 soldats. La commission d’enquête a conclu à un calcul incorrect du temps de parcours, dû à un problème d’arrondi. Les nombres étaient représentés en virgule fixe sur 24 bits, donc 24 chiffres binaires. Le temps était compté parl’horloge interne du système en 1/10 de seconde. Malheureusement, 1/10 n’a pas d’écriture finie dans le système binaire : 1/10 = 0,1 (dans le système décimal)= 0,0001100110011001100110011... (dans le système binaire). L’ordinateur de bord arrondissait 1/10 à 24 chiffres, d’où une petite erreur dans le décompte du temps pour chaque 1/10 de seconde. Au moment de l’attaque, la batterie de missile Patriot était allumée depuis environ 100 heures,ce qui avait entraîné une accumulation des erreurs d’arrondi de 0,34 s. Pendant ce temps, un missile Scud parcourt environ 500 m, ce qui explique que le Patriot soit passé à côté de sa cible. Ce qu’il aurait fallu faire c’était redémarrer régulièrement le système de guidage du missile.  <br>\n",
    "    <strong>Explosion d’Ariane 5 :</strong>   <br>\n",
    "Le 4 juin 1996, une fusée Ariane 5, a son premier lancement, a explosé 40 secondes après l’allumage. La fusée et son chargement avaient coûté 500 millions de dollars. La commission d’enquête a rendu son rapport au bout de deux semaines. Il s’agissait d’une erreur de programmation dans le système inertiel de référence. À un moment donné, un nombre codé en virgule flottante sur 64 bits (qui représentait la vitesse horizontale de la fusée par rapport à la plate-forme de tir) était converti en un entier sur 16 bits. Malheureusement, le nombre en question était plus grand que 32768 (overflow), le plus grand entier que l’on peut coder sur 16 bits, et la conversion a été incorrecte.</div>"
   ]
  },
  {
   "cell_type": "markdown",
   "metadata": {},
   "source": [
    "#### <font color='red'>Les chaînes de caractères</font>"
   ]
  },
  {
   "cell_type": "markdown",
   "metadata": {},
   "source": [
    "Après les nombres, les chaînes de caractères sont des données très fréquemment manipulées par les programmes informatiques.\n",
    "\n",
    "Une chaîne de caractères est une suite de caractères mis les uns après les autres, un caractère pouvant être une lettre (majuscule ou minuscule), un chiffre, un symbole de ponctuation, un espace, et bien d'autres choses encore.\n",
    "\n",
    "En Python, les chaînes de caractères littérales sont écrites en les entourant soit de deux simples quotes (') ou deux doubles quotes (\").\n"
   ]
  },
  {
   "cell_type": "markdown",
   "metadata": {},
   "source": [
    "Aucune limitation n'existe sur le nombre de caractères que contient une chaîne. Ce nombre est appelé la longueur de la chaîne.\n",
    "\n",
    "En Python, la fonction **len** donne la longueur d'une chaîne."
   ]
  },
  {
   "cell_type": "markdown",
   "metadata": {},
   "source": [
    "Tester le code suivant:\n",
    "> message1 = \"Hello World!\"  \n",
    "message2='  '\n",
    "1. Quel est le type de message1?\n",
    "2. Quelle est la longueur de message1?\n",
    "3. Mêmes questions pour message2."
   ]
  },
  {
   "cell_type": "code",
   "execution_count": null,
   "metadata": {},
   "outputs": [],
   "source": []
  },
  {
   "cell_type": "code",
   "execution_count": null,
   "metadata": {},
   "outputs": [],
   "source": [
    "\n"
   ]
  },
  {
   "cell_type": "code",
   "execution_count": null,
   "metadata": {},
   "outputs": [],
   "source": []
  },
  {
   "cell_type": "code",
   "execution_count": null,
   "metadata": {},
   "outputs": [],
   "source": []
  },
  {
   "cell_type": "code",
   "execution_count": null,
   "metadata": {},
   "outputs": [],
   "source": []
  },
  {
   "cell_type": "markdown",
   "metadata": {},
   "source": [
    "Une chaîne de carcatères peut ne contenir aucun caractère. On parle alors de la chaîne vide."
   ]
  },
  {
   "cell_type": "markdown",
   "metadata": {},
   "source": [
    "Le type str(abréviation de string) est un type séquentiel qui permet de stocker des chaînes de caractères."
   ]
  },
  {
   "cell_type": "markdown",
   "metadata": {},
   "source": [
    "#### Le signe + et les chaînes de caractères\n",
    "\n",
    "L'utilisation du signe + ne se limite pas à l'addition. Il est aussi utilisé pour la concaténation. \n",
    "D'après Wikipédia :\n",
    "\n",
    "« Le terme concaténation (substantif féminin), du latin cum («avec») et catena(«chaîne, liaison»), désigne l'action de mettre bout à bout au moins deux chaînes. » "
   ]
  },
  {
   "cell_type": "markdown",
   "metadata": {},
   "source": [
    "Tester le code suivant:\n",
    "> a = \"Hello\"   \n",
    "b = \"World\"  \n",
    "mon_expression = a + b"
   ]
  },
  {
   "cell_type": "code",
   "execution_count": null,
   "metadata": {},
   "outputs": [],
   "source": []
  },
  {
   "cell_type": "markdown",
   "metadata": {},
   "source": [
    "Tester le code suivant:\n",
    "> mon_nombre = 5   \n",
    "res = \"Nombre de personnes : \" + mon_nombre"
   ]
  },
  {
   "cell_type": "code",
   "execution_count": null,
   "metadata": {},
   "outputs": [],
   "source": []
  },
  {
   "cell_type": "markdown",
   "metadata": {},
   "source": [
    "Comme vous pouvez le constater, nous avons droit à une erreur. En effet, il n'est pas possible de concaténer une chaîne de caractères et un nombre. \n",
    "Il faut donc convertir le nombre en chaîne de caractères avec la fonction str().\n",
    "Tester à nouveau le code corrigé."
   ]
  },
  {
   "cell_type": "code",
   "execution_count": null,
   "metadata": {},
   "outputs": [],
   "source": []
  },
  {
   "cell_type": "markdown",
   "metadata": {},
   "source": [
    "On peut convertir aussi un nombre float ou un texte en entier avec la fonction int().\n",
    "1. Quel est le type de \"16\"?\n",
    "2. Convertir \"16\" en entier et vérifier le type?"
   ]
  },
  {
   "cell_type": "code",
   "execution_count": null,
   "metadata": {},
   "outputs": [],
   "source": []
  },
  {
   "cell_type": "code",
   "execution_count": null,
   "metadata": {},
   "outputs": [],
   "source": []
  },
  {
   "cell_type": "markdown",
   "metadata": {},
   "source": [
    "#### <font color='red'>Les booléens</font>"
   ]
  },
  {
   "cell_type": "markdown",
   "metadata": {},
   "source": [
    "Le type bool ne contient que deux valeurs (dites booléennes, du mathématicien britanique Georges Boole) : <strong>T</strong>rue(vrai) et <strong>F</strong>alse(faux).  \n",
    "Les opérations logiques possibles sur le type bool sont (par ordre de priorité) : la disjonction <strong> or</strong>, la conjonction <strong>and</strong> et la négation <strong>not</strong>."
   ]
  },
  {
   "cell_type": "markdown",
   "metadata": {},
   "source": [
    "Tester le code suivant:\n",
    "> 1<2  \n",
    "type(1<2)  \n",
    "(1<0) or (3<=4)  \n",
    "(1<0) and (3<=4)  \n",
    "1 == 1.0  \n",
    "not(1==1.0)  \n",
    "True ==1  \n",
    "False ==0     "
   ]
  },
  {
   "cell_type": "code",
   "execution_count": null,
   "metadata": {},
   "outputs": [],
   "source": [
    " "
   ]
  },
  {
   "cell_type": "code",
   "execution_count": null,
   "metadata": {},
   "outputs": [],
   "source": []
  },
  {
   "cell_type": "code",
   "execution_count": null,
   "metadata": {},
   "outputs": [],
   "source": []
  },
  {
   "cell_type": "code",
   "execution_count": null,
   "metadata": {},
   "outputs": [],
   "source": []
  },
  {
   "cell_type": "code",
   "execution_count": null,
   "metadata": {},
   "outputs": [],
   "source": []
  },
  {
   "cell_type": "code",
   "execution_count": null,
   "metadata": {},
   "outputs": [],
   "source": []
  },
  {
   "cell_type": "code",
   "execution_count": null,
   "metadata": {},
   "outputs": [],
   "source": []
  },
  {
   "cell_type": "code",
   "execution_count": null,
   "metadata": {},
   "outputs": [],
   "source": []
  },
  {
   "cell_type": "markdown",
   "metadata": {},
   "source": [
    "#### 8 Opérateurs de comparaison \n",
    "![center](operateurs-de-comparaison.png)"
   ]
  },
  {
   "cell_type": "markdown",
   "metadata": {},
   "source": [
    "## <font color=#3D6BBC > 5. Les entrées et les sorties E/S</font>"
   ]
  },
  {
   "cell_type": "markdown",
   "metadata": {},
   "source": [
    "### Entrer des données"
   ]
  },
  {
   "cell_type": "markdown",
   "metadata": {},
   "source": [
    "Il est parfois nécessaire d'entrer des données à l'aide de la fonction input():"
   ]
  },
  {
   "cell_type": "markdown",
   "metadata": {},
   "source": [
    "Tester le code suivant:\n",
    "> a=input(\"Entrer un entier a: \")  \n",
    "Quel est le type de a entré?"
   ]
  },
  {
   "cell_type": "raw",
   "metadata": {},
   "source": []
  },
  {
   "cell_type": "code",
   "execution_count": null,
   "metadata": {},
   "outputs": [],
   "source": []
  },
  {
   "cell_type": "markdown",
   "metadata": {},
   "source": [
    "Tester le code suivant:\n",
    "> b=int(input(\"Entrer un entier b: \"))  \n",
    "Quel est le type de b entré?"
   ]
  },
  {
   "cell_type": "code",
   "execution_count": null,
   "metadata": {},
   "outputs": [],
   "source": []
  },
  {
   "cell_type": "markdown",
   "metadata": {},
   "source": [
    "Tester le code suivant:\n",
    "> c=float(input(\"Entrer un nombre c: \"))  \n",
    "Quel est le type de c entré?"
   ]
  },
  {
   "cell_type": "code",
   "execution_count": null,
   "metadata": {},
   "outputs": [],
   "source": []
  },
  {
   "cell_type": "markdown",
   "metadata": {},
   "source": [
    "### Afficher un texte ou la valeur d'une variable"
   ]
  },
  {
   "cell_type": "raw",
   "metadata": {},
   "source": []
  },
  {
   "cell_type": "markdown",
   "metadata": {},
   "source": [
    "Avec la fonction print(), déjà vue.\n",
    "Tester le code suivant:\n",
    "> a = 'Lundi'  \n",
    "b= 'Mardi'   \n",
    "print(a,b,sep='\\n')   \n",
    "\n"
   ]
  },
  {
   "cell_type": "markdown",
   "metadata": {},
   "source": [
    "<u>**Exercice n°2:**</u>\n",
    "Ecrire un programme renvoyant <strong>True</strong> si l'entier entré est pair, et <strong>False</strong> sinon."
   ]
  },
  {
   "cell_type": "code",
   "execution_count": null,
   "metadata": {},
   "outputs": [],
   "source": []
  },
  {
   "cell_type": "markdown",
   "metadata": {},
   "source": [
    "<u>**Exercice n°3:**</u>\n",
    "La coupe du monde de football est un évènement sportif organisé tous les 4 ans depuis 1930. Ecrire un programme renvoyant <strong>True</strong> si l'entier entré est une année de coupe du monde et <strong>False</strong> sinon."
   ]
  },
  {
   "cell_type": "markdown",
   "metadata": {},
   "source": [
    "** Indication: ** Une année de coupe du monde est à la fois:\n",
    "* supérieur à 1930\n",
    "* paire\n",
    "* pas multiple de 4"
   ]
  },
  {
   "cell_type": "code",
   "execution_count": null,
   "metadata": {},
   "outputs": [],
   "source": []
  },
  {
   "cell_type": "markdown",
   "metadata": {},
   "source": [
    "### Afficher du texte et des variables"
   ]
  },
  {
   "cell_type": "markdown",
   "metadata": {},
   "source": [
    "Tester le code:\n",
    "> a = 12  \n",
    "print(\"La valeur de la variable a est \",str(a),\".\")"
   ]
  },
  {
   "cell_type": "code",
   "execution_count": null,
   "metadata": {},
   "outputs": [],
   "source": []
  },
  {
   "cell_type": "markdown",
   "metadata": {},
   "source": [
    "## <font color=#3D6BBC >6. Les structures conditionnelles</font>"
   ]
  },
  {
   "cell_type": "markdown",
   "metadata": {},
   "source": [
    "#### Si ....alors  ...  sinon"
   ]
  },
  {
   "cell_type": "markdown",
   "metadata": {},
   "source": [
    "![center](structure_conditionnelle.png)"
   ]
  },
  {
   "cell_type": "markdown",
   "metadata": {},
   "source": [
    "<u>**Remarque**</u> : **elif** est une contraction de **else if**"
   ]
  },
  {
   "cell_type": "markdown",
   "metadata": {},
   "source": [
    "<u>**Exercice n°4:**</u>\n",
    "    Ecrire un programme qui demande un nombre entier, teste s'il est pair, et si oui le divise par 2."
   ]
  },
  {
   "cell_type": "code",
   "execution_count": null,
   "metadata": {},
   "outputs": [],
   "source": []
  },
  {
   "cell_type": "markdown",
   "metadata": {},
   "source": [
    "<u>**Exercice n°5:**</u>\n",
    "    Ecrire un programme qui demande un nombre entier, teste s'il est pair, et si oui le divise par 2, sinon indique qu'il est impair."
   ]
  },
  {
   "cell_type": "code",
   "execution_count": null,
   "metadata": {},
   "outputs": [],
   "source": []
  },
  {
   "cell_type": "markdown",
   "metadata": {},
   "source": [
    "<u>**Exercice n°6:**</u>   **Année bissextile**   \n",
    "Savez-vous que les années bissextiles sont divisibles par 4 mais pas par 100 ou divisibles par 400?\n",
    "Ecrire un programme qui demande une année et qui affiche si elle est bissextile ou non."
   ]
  },
  {
   "cell_type": "code",
   "execution_count": null,
   "metadata": {},
   "outputs": [],
   "source": []
  },
  {
   "cell_type": "markdown",
   "metadata": {},
   "source": [
    "Sources :\n",
    "http://python.lycee.free.fr/bases.html  \n",
    "http://ressources.unisciel.fr/sillages/informatique/python/ch01_bases/co/grain_act2.html  \n",
    "https://github.com/debimax/cours-debimax/blob/master/isn/bases.ipynb   \n",
    "https://cahier-de-prepa.fr/pt-jbsay/download?id=631  \n",
    "https://nbviewer.jupyter.org/urls/leducdenormandie.itslearning.com/ePortfolio/View/ViewItemFile.aspx/%3FPortfolioID%3D6406%26PortfolioItemID%3D458%26PortfolioItemFileId%3D31225%26Customer%3Dleducdenormandie"
   ]
  }
 ],
 "metadata": {
  "kernelspec": {
   "display_name": "Python 3",
   "language": "python",
   "name": "python3"
  },
  "language_info": {
   "codemirror_mode": {
    "name": "ipython",
    "version": 3
   },
   "file_extension": ".py",
   "mimetype": "text/x-python",
   "name": "python",
   "nbconvert_exporter": "python",
   "pygments_lexer": "ipython3",
   "version": "3.7.3"
  }
 },
 "nbformat": 4,
 "nbformat_minor": 2
}
